{
 "cells": [
  {
   "cell_type": "code",
   "execution_count": 6,
   "metadata": {},
   "outputs": [],
   "source": [
    "import numpy as np\n",
    "from PIL import Image"
   ]
  },
  {
   "cell_type": "code",
   "execution_count": 20,
   "metadata": {},
   "outputs": [
    {
     "data": {
      "text/plain": [
       "array([[ 0,  0,  0,  1,  2,  3,  4,  5,  6,  7],\n",
       "       [ 0,  0,  0,  8,  9, 10, 11, 12, 13, 14],\n",
       "       [ 0,  0, 15, 16, 17, 18, 19, 20, 21, 22],\n",
       "       [ 0, 23, 24, 25, 26, 27, 28, 29, 30, 31],\n",
       "       [32, 33, 34, 35, 36, 37, 38, 39, 40, 41],\n",
       "       [42, 43, 44, 45, 46, 47, 48, 49, 50, 51],\n",
       "       [52, 53, 54, 55, 56, 57, 58, 59, 60, 61],\n",
       "       [62, 63, 64, 65, 66, 67, 68, 69, 70, 71],\n",
       "       [72, 73, 74, 75, 76, 77, 78, 79, 80, 81],\n",
       "       [82, 83, 84, 85, 86, 87, 88, 89, 90,  0]], dtype=uint8)"
      ]
     },
     "execution_count": 20,
     "metadata": {},
     "output_type": "execute_result"
    }
   ],
   "source": [
    "img = Image.open('10 x 10 Image.png')\n",
    "arr = np.array(img) \n",
    "arr"
   ]
  },
  {
   "cell_type": "code",
   "execution_count": 13,
   "metadata": {},
   "outputs": [
    {
     "name": "stdout",
     "output_type": "stream",
     "text": [
      "[[ 0  0  0  0 32 42 52 62 72 82]\n",
      " [ 0  0  0 23 33 43 53 63 73 83]\n",
      " [ 0  0 15 24 34 44 54 64 74 84]\n",
      " [ 1  8 16 25 35 45 55 65 75 85]\n",
      " [ 2  9 17 26 36 46 56 66 76 86]\n",
      " [ 3 10 18 27 37 47 57 67 77 87]\n",
      " [ 4 11 19 28 38 48 58 68 78 88]\n",
      " [ 5 12 20 29 39 49 59 69 79 89]\n",
      " [ 6 13 21 30 40 50 60 70 80 90]\n",
      " [ 7 14 22 31 41 51 61 71 81  0]]\n"
     ]
    }
   ],
   "source": [
    "arr=arr.T\n",
    "print(arr)"
   ]
  },
  {
   "cell_type": "code",
   "execution_count": 36,
   "metadata": {},
   "outputs": [],
   "source": []
  },
  {
   "cell_type": "code",
   "execution_count": 49,
   "metadata": {},
   "outputs": [],
   "source": [
    "import numpy as np\n",
    "from numpy.linalg import norm\n",
    "v = [32, 42, 52]\n",
    "vector = np.array(v)\n",
    "l2=norm(vector)"
   ]
  }
 ],
 "metadata": {
  "interpreter": {
   "hash": "a8f61be024eba58adef938c9aa1e29e02cb3dece83a5348b1a2dafd16a070453"
  },
  "kernelspec": {
   "display_name": "Python 3.7.3 64-bit",
   "language": "python",
   "name": "python3"
  },
  "language_info": {
   "codemirror_mode": {
    "name": "ipython",
    "version": 3
   },
   "file_extension": ".py",
   "mimetype": "text/x-python",
   "name": "python",
   "nbconvert_exporter": "python",
   "pygments_lexer": "ipython3",
   "version": "3.7.3"
  },
  "orig_nbformat": 4
 },
 "nbformat": 4,
 "nbformat_minor": 2
}
